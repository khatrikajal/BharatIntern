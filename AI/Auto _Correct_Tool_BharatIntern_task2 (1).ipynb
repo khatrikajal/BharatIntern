{
 "cells": [
  {
   "cell_type": "markdown",
   "id": "df2f8db0",
   "metadata": {},
   "source": [
    "# Auto _Correct_Tool_BharatIntern"
   ]
  },
  {
   "cell_type": "code",
   "execution_count": 7,
   "id": "59d54f31",
   "metadata": {},
   "outputs": [
    {
     "name": "stdout",
     "output_type": "stream",
     "text": [
      "Enter a word: tasc\n",
      "Corrected word: cast\n"
     ]
    }
   ],
   "source": [
    "import enchant\n",
    "\n",
    "def train(data):\n",
    "    model = enchant.Dict(\"en_US\")\n",
    "    model.add(data)\n",
    "    return model\n",
    "\n",
    "def auto_correct(word, model):\n",
    "    if model.check(word):\n",
    "        return word\n",
    "\n",
    "    suggestions = model.suggest(word)\n",
    "    if suggestions:\n",
    "        return suggestions[0]\n",
    "    else:\n",
    "        return word\n",
    "\n",
    "# Training the model with a sample dataset\n",
    "data = '''\n",
    "this is a sample text. we will use it to train the auto correct model.\n",
    "'''\n",
    "model = train(data)\n",
    "\n",
    "# Test the auto correct tool\n",
    "word = input(\"Enter a word: \")\n",
    "corrected_word = auto_correct(word, model)\n",
    "print(\"Corrected word:\", corrected_word)\n"
   ]
  },
  {
   "cell_type": "code",
   "execution_count": null,
   "id": "d23dab74",
   "metadata": {},
   "outputs": [],
   "source": []
  }
 ],
 "metadata": {
  "kernelspec": {
   "display_name": "Python 3 (ipykernel)",
   "language": "python",
   "name": "python3"
  },
  "language_info": {
   "codemirror_mode": {
    "name": "ipython",
    "version": 3
   },
   "file_extension": ".py",
   "mimetype": "text/x-python",
   "name": "python",
   "nbconvert_exporter": "python",
   "pygments_lexer": "ipython3",
   "version": "3.9.13"
  }
 },
 "nbformat": 4,
 "nbformat_minor": 5
}
