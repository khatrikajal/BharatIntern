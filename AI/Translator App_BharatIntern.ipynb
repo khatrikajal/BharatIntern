{
 "cells": [
  {
   "cell_type": "markdown",
   "id": "6697959e",
   "metadata": {},
   "source": [
    "# Translator App"
   ]
  },
  {
   "cell_type": "code",
   "execution_count": 3,
   "id": "1d280707",
   "metadata": {},
   "outputs": [
    {
     "name": "stdout",
     "output_type": "stream",
     "text": [
      "Enter the source language: English\n",
      "Enter the target language: ZH-CN\n",
      "Enter the text to translate: my name is kajal\n",
      "Translated text: 我的名字是 \n"
     ]
    }
   ],
   "source": [
    "from translate import Translator\n",
    "\n",
    "def translate_text(text, source_lang, target_lang):\n",
    "    translator = Translator(from_lang=source_lang, to_lang=target_lang)\n",
    "    translation = translator.translate(text)\n",
    "    return translation\n",
    "\n",
    "# Get language choices from the user\n",
    "source_lang = input(\"Enter the source language: \")\n",
    "target_lang = input(\"Enter the target language: \")\n",
    "\n",
    "\n",
    "\n",
    "# Test the translator\n",
    "text = input(\"Enter the text to translate: \")\n",
    "translated_text = translate_text(text, source_lang, target_lang)\n",
    "print(\"Translated text:\", translated_text)\n"
   ]
  },
  {
   "cell_type": "code",
   "execution_count": null,
   "id": "f24562f2",
   "metadata": {},
   "outputs": [],
   "source": []
  }
 ],
 "metadata": {
  "kernelspec": {
   "display_name": "Python 3 (ipykernel)",
   "language": "python",
   "name": "python3"
  },
  "language_info": {
   "codemirror_mode": {
    "name": "ipython",
    "version": 3
   },
   "file_extension": ".py",
   "mimetype": "text/x-python",
   "name": "python",
   "nbconvert_exporter": "python",
   "pygments_lexer": "ipython3",
   "version": "3.9.13"
  }
 },
 "nbformat": 4,
 "nbformat_minor": 5
}
